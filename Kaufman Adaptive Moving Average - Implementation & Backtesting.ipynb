{
 "cells": [
  {
   "cell_type": "code",
   "execution_count": null,
   "id": "953151c4",
   "metadata": {},
   "outputs": [],
   "source": [
    "## Importing Libraries"
   ]
  },
  {
   "cell_type": "code",
   "execution_count": 1,
   "id": "fa3b6e44",
   "metadata": {},
   "outputs": [],
   "source": [
    "import numpy as np\n",
    "import math\n",
    "import time\n",
    "import pymongo\n",
    "import pandas as pd\n",
    "import concurrent.futures\n",
    "import matplotlib.pyplot as plt\n",
    "import statistics\n",
    "import numpy as np\n"
   ]
  },
  {
   "cell_type": "code",
   "execution_count": null,
   "id": "6a06eba7",
   "metadata": {},
   "outputs": [],
   "source": [
    "## Connecting to Mongo and collecting Data of individual stocks"
   ]
  },
  {
   "cell_type": "code",
   "execution_count": 2,
   "id": "10c452b0",
   "metadata": {},
   "outputs": [],
   "source": [
    "client = pymongo.MongoClient('mongodb://127.0.0.1:27017/')\n",
    "mydb = client['Algorithmic_Trading']\n",
    "info = mydb.historical_data_500\n",
    "\n",
    "symbols = []\n",
    "for i in info.find():\n",
    "    symbols.append(i['Symbol'])\n",
    "all_closes = {}\n",
    "for s in symbols:\n",
    "    for i in info.find({\"Symbol\" : s}):\n",
    "        cl = []\n",
    "        for x in i[\"Data\"]:\n",
    "            cl.append(x[\"Close\"])\n",
    "    all_closes[s] = cl\n",
    "            \n",
    "\n",
    "    \n",
    "\n"
   ]
  },
  {
   "cell_type": "code",
   "execution_count": null,
   "id": "eaa725ea",
   "metadata": {},
   "outputs": [],
   "source": [
    "## Implementing KAMA indicator"
   ]
  },
  {
   "cell_type": "code",
   "execution_count": 4,
   "id": "5acab190",
   "metadata": {},
   "outputs": [],
   "source": [
    "def kaufman(n,stock,fast,slow):\n",
    "    \n",
    "   \n",
    "    def rolling_diff(t,n):\n",
    "        x = []\n",
    "        for i in range(n,len(t)):\n",
    "            x.append(abs(t[i]-t[i-n]))\n",
    "        return x\n",
    "    \n",
    "    def rolling_sum(t,n):\n",
    "        x = []\n",
    "        for i in range(0,len(t)-n+1):\n",
    "            x.append(sum(t[i:i+n]))\n",
    "        return x\n",
    "    def rolling_mean(t,n):\n",
    "        x = []\n",
    "        for i in range(0,len(t) - n + 1):\n",
    "            x.append(sum(t[i:i+n])/n)\n",
    "        return x\n",
    "    \n",
    "    fastest = (2/(fast+1))\n",
    "    slowest = (2/(slow+1))\n",
    "    \n",
    "    close = all_closes[stock]\n",
    "\n",
    "    used_closes = close[n:]\n",
    "\n",
    "\n",
    "    one_day_diff = rolling_diff(close,1)[n-1:]\n",
    "    fourteen_day_diff = rolling_diff(close,n)\n",
    "    total_dist = rolling_sum(rolling_diff(close,1),n)\n",
    "    eff = []\n",
    "\n",
    "\n",
    "    for i in range(0,len(total_dist)):\n",
    "        if total_dist[i] != 0:\n",
    "            eff.append(fourteen_day_diff[i]/total_dist[i])\n",
    "        else:\n",
    "            eff.append(0)\n",
    "    starting_mean = rolling_mean(close,n)[0]\n",
    "\n",
    "    kama = []\n",
    "\n",
    "    for i in range(0,len(total_dist)):\n",
    "        sc = ((eff[i]*(fastest - slowest))  + slowest)**2\n",
    "        new_kama  = starting_mean + (sc*(used_closes[i] - starting_mean))\n",
    "        kama.append(new_kama)\n",
    "        starting_mean = new_kama\n",
    "  \n",
    "    return kama\n",
    "\n",
    "\n",
    "    \n",
    "    \n",
    "\n",
    "\n"
   ]
  },
  {
   "cell_type": "code",
   "execution_count": null,
   "id": "6c842a76",
   "metadata": {},
   "outputs": [],
   "source": [
    "## Backtesting the strategy on particular stocks"
   ]
  },
  {
   "cell_type": "code",
   "execution_count": 5,
   "id": "6dc8abbb",
   "metadata": {
    "scrolled": true
   },
   "outputs": [
    {
     "name": "stdout",
     "output_type": "stream",
     "text": [
      "p/l-- 5353.791839565076\n"
     ]
    }
   ],
   "source": [
    "counting_days = 14\n",
    "stock = 'IOLCP'\n",
    "\n",
    "kama = kaufman(counting_days,stock,2,30)\n",
    "closes = all_closes[stock][counting_days:]\n",
    "\n",
    "dates = []\n",
    "for i in info.find({\"Symbol\" : stock}):\n",
    "    for dd in i['Data']:\n",
    "        dates.append(dd['Date'])\n",
    "dates\n",
    "f_dates = dates[counting_days:]\n",
    "\n",
    "profit = 0\n",
    "total = 0\n",
    "invested = 0\n",
    "i = 0\n",
    "\n",
    "\n",
    "\n",
    "while i < len(closes)-1:\n",
    "    if closes[i]<(1.03*kama[i]) and closes[i] > kama[i]:\n",
    "        \n",
    "        profit = 0\n",
    "        \n",
    "        buy_price = 1.01*kama[i]\n",
    "        \n",
    "        \n",
    "        if(buy_price > invested):\n",
    "            invested = buy_price\n",
    "        \n",
    "        j = i\n",
    "        \n",
    "\n",
    "        \n",
    "        \n",
    "        while closes[j] >(0.99*kama[j]) and j < len(closes)-1:\n",
    "            j = j+1\n",
    "        sell_price = 0.99*kama[j]\n",
    "        \n",
    "\n",
    "        \n",
    "        \n",
    "        profit = sell_price - buy_price\n",
    "        \n",
    "        total = total + profit\n",
    "       \n",
    "        \n",
    "      \n",
    "       \n",
    "        i=i+1\n",
    "    \n",
    "    elif closes[i]>(0.97*kama[i]) and closes[i]<kama[i]:\n",
    "        profit = 0\n",
    "        \n",
    "        sell_price = 0.99*kama[i]\n",
    "        \n",
    "        \n",
    "        \n",
    "        \n",
    "        j = i\n",
    "        \n",
    "        \n",
    "        while closes[j] <(1.01*kama[j]) and j < len(closes)-1:\n",
    "            j = j+1\n",
    "        buy_price = 1.01*kama[j]\n",
    "        \n",
    "        \n",
    "        \n",
    "        profit = sell_price - buy_price\n",
    "        \n",
    "        total = total + profit\n",
    "      \n",
    "        \n",
    "        \n",
    "   \n",
    "        i= i+1\n",
    "    else:\n",
    "        i = i+1\n",
    "        \n",
    "    \n",
    "print(\"p/l--\",total)\n",
    "\n"
   ]
  },
  {
   "cell_type": "code",
   "execution_count": null,
   "id": "63623e3e",
   "metadata": {},
   "outputs": [],
   "source": [
    "##Filtering stocks based on distance of closing price to KAMA"
   ]
  },
  {
   "cell_type": "code",
   "execution_count": 6,
   "id": "35ddd9e5",
   "metadata": {},
   "outputs": [
    {
     "name": "stdout",
     "output_type": "stream",
     "text": [
      "--- 3.0341219902038574 seconds ---\n"
     ]
    }
   ],
   "source": [
    "filtered = []\n",
    "start_time = time.time()\n",
    "for s in symbols:\n",
    "    kaufman_adap = kaufman(14,s,2,30)\n",
    "    this_close = all_closes[s]\n",
    "    \n",
    "    if this_close[-1] > kaufman_adap[-1] and this_close[-1] < (1.01 * kaufman_adap[-1]):\n",
    "        filtered.append(s)\n",
    "        \n"
   ]
  },
  {
   "cell_type": "code",
   "execution_count": 22,
   "id": "60adaa6a",
   "metadata": {},
   "outputs": [
    {
     "data": {
      "text/plain": [
       "[<matplotlib.lines.Line2D at 0x196ef8424f0>]"
      ]
     },
     "execution_count": 22,
     "metadata": {},
     "output_type": "execute_result"
    },
    {
     "data": {
      "image/png": "[encoded data removed]",
      "text/plain": [
       "<Figure size 432x288 with 1 Axes>"
      ]
     },
     "metadata": {
      "needs_background": "light"
     },
     "output_type": "display_data"
    }
   ],
   "source": [
    "counting_days = 14\n",
    "stock = 'CUMMINSIND'\n",
    "k = kaufman(counting_days,stock,5,30)\n",
    "cl = all_closes[stock][counting_days:]\n",
    "plt.plot(k[-100:])\n",
    "plt.plot(cl[-100:])"
   ]
  }
 ],
 "metadata": {
  "kernelspec": {
   "display_name": "Python 3",
   "language": "python",
   "name": "python3"
  },
  "language_info": {
   "codemirror_mode": {
    "name": "ipython",
    "version": 3
   },
   "file_extension": ".py",
   "mimetype": "text/x-python",
   "name": "python",
   "nbconvert_exporter": "python",
   "pygments_lexer": "ipython3",
   "version": "3.8.8"
  }
 },
 "nbformat": 4,
 "nbformat_minor": 5
}
